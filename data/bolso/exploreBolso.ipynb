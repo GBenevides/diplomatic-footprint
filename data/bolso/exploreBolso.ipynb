{
 "cells": [
  {
   "cell_type": "code",
   "execution_count": 5,
   "metadata": {},
   "outputs": [
    {
     "ename": "ModuleNotFoundError",
     "evalue": "No module named 'gliner'",
     "output_type": "error",
     "traceback": [
      "\u001b[1;31m---------------------------------------------------------------------------\u001b[0m",
      "\u001b[1;31mModuleNotFoundError\u001b[0m                       Traceback (most recent call last)",
      "Cell \u001b[1;32mIn[5], line 2\u001b[0m\n\u001b[0;32m      1\u001b[0m \u001b[38;5;28;01mimport\u001b[39;00m \u001b[38;5;21;01mPyPDF2\u001b[39;00m\n\u001b[1;32m----> 2\u001b[0m \u001b[38;5;28;01mfrom\u001b[39;00m \u001b[38;5;21;01mgliner\u001b[39;00m \u001b[38;5;28;01mimport\u001b[39;00m GLiNER\n\u001b[0;32m      3\u001b[0m \u001b[38;5;28;01mimport\u001b[39;00m \u001b[38;5;21;01mwarnings\u001b[39;00m\n\u001b[0;32m      5\u001b[0m \u001b[38;5;66;03m# Ignore specific warnings\u001b[39;00m\n",
      "\u001b[1;31mModuleNotFoundError\u001b[0m: No module named 'gliner'"
     ]
    }
   ],
   "source": [
    "import PyPDF2\n",
    "from gliner import GLiNER\n",
    "import warnings\n",
    "\n",
    "# Ignore specific warnings\n",
    "warnings.filterwarnings(\"ignore\", category=UserWarning)\n",
    "model = GLiNER.from_pretrained(\"urchade/gliner_multi\")\n",
    "\n"
   ]
  },
  {
   "cell_type": "code",
   "execution_count": null,
   "metadata": {},
   "outputs": [],
   "source": [
    "\n",
    "# Function to extract text from the PDF\n",
    "def extract_text_from_pdf(pdf_path):\n",
    "    with open(pdf_path, \"rb\") as file:\n",
    "        reader = PyPDF2.PdfReader(file)\n",
    "        text = \"\"\n",
    "        for page in reader.pages:\n",
    "            text += page.extract_text()\n",
    "    return text \n",
    "\n",
    "\n",
    "def extract_entities(text, labels, model):\n",
    "\n",
    "    # Use GLiNER to extract entities\n",
    "    entities = model.predict_entities(text, labels)\n",
    "\n",
    "    # Organize the entities into a dictionary\n",
    "    entities_ref = []\n",
    "    for entity in entities:\n",
    "        entities_ref.append({entity[\"label\"]: entity[\"text\"]})\n",
    "    return entities_ref"
   ]
  },
  {
   "cell_type": "code",
   "execution_count": null,
   "metadata": {},
   "outputs": [],
   "source": [
    "\n",
    "pdf_path = \"./data/agendaTest.pdf\"\n",
    "\n",
    "# Step 1: Extract the text from the PDF\n",
    "#extracted_text = extract_text_from_pdf(pdf_path)\n",
    "#print(\"Extracted Text:\\n\", extracted_text)\n",
    "\n",
    "extracted_text = \"Augusto Heleno, Ministro-Chefe do Gabinete de Segurança Institucional da Presidência da República; e Deputado Major Vitor Hugo (PSL/GO), Líder do Governo na Câmara dos Deputados\"\n",
    "extracted_text = \"Augusto Heleno, Chief Minister of the Office of Institutional Security of the Presidency of the Republic;\"\n",
    "y = \"and Deputy Major Vitor Hugo (PSL/GO), Leader of the Government in the Chamber of Deputies\"\n",
    "model = GLiNER.from_pretrained(\"urchade/gliner_multi\")\n",
    "\n",
    "\n",
    "# Step 2: Define the entity labels you want to extract\n",
    "labels = [\"person\", \"party\", \"position title\"]\n",
    "\n",
    "# Step 3: Extract the entities using GLiNER\n",
    "entities=  extract_entities(extracted_text+y, labels, model)\n",
    "\n",
    "# Step 4: Print the extracted entities\n",
    "print(\"\\nExtracted Entities:\")\n",
    "for extraccted in entities:\n",
    "    for label, entity in extraccted.items():\n",
    "        print(f\"{label}: {entity}\")"
   ]
  }
 ],
 "metadata": {
  "kernelspec": {
   "display_name": "venv",
   "language": "python",
   "name": "python3"
  },
  "language_info": {
   "codemirror_mode": {
    "name": "ipython",
    "version": 3
   },
   "file_extension": ".py",
   "mimetype": "text/x-python",
   "name": "python",
   "nbconvert_exporter": "python",
   "pygments_lexer": "ipython3",
   "version": "3.12.5"
  }
 },
 "nbformat": 4,
 "nbformat_minor": 2
}
